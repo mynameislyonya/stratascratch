{
 "cells": [
  {
   "cell_type": "markdown",
   "id": "004165e2",
   "metadata": {},
   "source": [
    "The goal of this project is to understand this traffic better, in particular the volume and distribution of events, and to develop ideas how to increase the links' clickrates. With that in mind, please analyze the data using the Python libraries Pandas and SciPy where indicated, providing answers to the presented questions:"
   ]
  },
  {
   "cell_type": "raw",
   "id": "2616c964",
   "metadata": {},
   "source": [
    "How many total pageview events did the links in the provided dataset receive in the full period, how many per day?"
   ]
  },
  {
   "cell_type": "code",
   "execution_count": 2,
   "id": "fc58aef0",
   "metadata": {},
   "outputs": [],
   "source": [
    "import pandas as pd\n",
    "import seaborn as sns\n",
    "import numpy as np\n",
    "import scipy.stats"
   ]
  },
  {
   "cell_type": "code",
   "execution_count": 3,
   "id": "b4a24e2e",
   "metadata": {},
   "outputs": [],
   "source": [
    "df = pd.read_csv('traffic.csv')"
   ]
  },
  {
   "cell_type": "code",
   "execution_count": 4,
   "id": "bfc70458",
   "metadata": {},
   "outputs": [
    {
     "data": {
      "text/html": [
       "<div>\n",
       "<style scoped>\n",
       "    .dataframe tbody tr th:only-of-type {\n",
       "        vertical-align: middle;\n",
       "    }\n",
       "\n",
       "    .dataframe tbody tr th {\n",
       "        vertical-align: top;\n",
       "    }\n",
       "\n",
       "    .dataframe thead th {\n",
       "        text-align: right;\n",
       "    }\n",
       "</style>\n",
       "<table border=\"1\" class=\"dataframe\">\n",
       "  <thead>\n",
       "    <tr style=\"text-align: right;\">\n",
       "      <th></th>\n",
       "      <th>event</th>\n",
       "      <th>date</th>\n",
       "      <th>country</th>\n",
       "      <th>city</th>\n",
       "      <th>artist</th>\n",
       "      <th>album</th>\n",
       "      <th>track</th>\n",
       "      <th>isrc</th>\n",
       "      <th>linkid</th>\n",
       "    </tr>\n",
       "  </thead>\n",
       "  <tbody>\n",
       "    <tr>\n",
       "      <th>0</th>\n",
       "      <td>click</td>\n",
       "      <td>2021-08-21</td>\n",
       "      <td>Saudi Arabia</td>\n",
       "      <td>Jeddah</td>\n",
       "      <td>Tesher</td>\n",
       "      <td>Jalebi Baby</td>\n",
       "      <td>Jalebi Baby</td>\n",
       "      <td>QZNWQ2070741</td>\n",
       "      <td>2d896d31-97b6-4869-967b-1c5fb9cd4bb8</td>\n",
       "    </tr>\n",
       "    <tr>\n",
       "      <th>1</th>\n",
       "      <td>click</td>\n",
       "      <td>2021-08-21</td>\n",
       "      <td>Saudi Arabia</td>\n",
       "      <td>Jeddah</td>\n",
       "      <td>Tesher</td>\n",
       "      <td>Jalebi Baby</td>\n",
       "      <td>Jalebi Baby</td>\n",
       "      <td>QZNWQ2070741</td>\n",
       "      <td>2d896d31-97b6-4869-967b-1c5fb9cd4bb8</td>\n",
       "    </tr>\n",
       "    <tr>\n",
       "      <th>2</th>\n",
       "      <td>click</td>\n",
       "      <td>2021-08-21</td>\n",
       "      <td>India</td>\n",
       "      <td>Ludhiana</td>\n",
       "      <td>Reyanna Maria</td>\n",
       "      <td>So Pretty</td>\n",
       "      <td>So Pretty</td>\n",
       "      <td>USUM72100871</td>\n",
       "      <td>23199824-9cf5-4b98-942a-34965c3b0cc2</td>\n",
       "    </tr>\n",
       "    <tr>\n",
       "      <th>3</th>\n",
       "      <td>click</td>\n",
       "      <td>2021-08-21</td>\n",
       "      <td>France</td>\n",
       "      <td>Unknown</td>\n",
       "      <td>Simone &amp; Simaria, Sebastian Yatra</td>\n",
       "      <td>No Llores Más</td>\n",
       "      <td>No Llores Más</td>\n",
       "      <td>BRUM72003904</td>\n",
       "      <td>35573248-4e49-47c7-af80-08a960fa74cd</td>\n",
       "    </tr>\n",
       "    <tr>\n",
       "      <th>4</th>\n",
       "      <td>click</td>\n",
       "      <td>2021-08-21</td>\n",
       "      <td>Maldives</td>\n",
       "      <td>Malé</td>\n",
       "      <td>Tesher</td>\n",
       "      <td>Jalebi Baby</td>\n",
       "      <td>Jalebi Baby</td>\n",
       "      <td>QZNWQ2070741</td>\n",
       "      <td>2d896d31-97b6-4869-967b-1c5fb9cd4bb8</td>\n",
       "    </tr>\n",
       "  </tbody>\n",
       "</table>\n",
       "</div>"
      ],
      "text/plain": [
       "   event        date       country      city  \\\n",
       "0  click  2021-08-21  Saudi Arabia    Jeddah   \n",
       "1  click  2021-08-21  Saudi Arabia    Jeddah   \n",
       "2  click  2021-08-21         India  Ludhiana   \n",
       "3  click  2021-08-21        France   Unknown   \n",
       "4  click  2021-08-21      Maldives      Malé   \n",
       "\n",
       "                              artist          album          track  \\\n",
       "0                             Tesher    Jalebi Baby    Jalebi Baby   \n",
       "1                             Tesher    Jalebi Baby    Jalebi Baby   \n",
       "2                      Reyanna Maria      So Pretty      So Pretty   \n",
       "3  Simone & Simaria, Sebastian Yatra  No Llores Más  No Llores Más   \n",
       "4                             Tesher    Jalebi Baby    Jalebi Baby   \n",
       "\n",
       "           isrc                                linkid  \n",
       "0  QZNWQ2070741  2d896d31-97b6-4869-967b-1c5fb9cd4bb8  \n",
       "1  QZNWQ2070741  2d896d31-97b6-4869-967b-1c5fb9cd4bb8  \n",
       "2  USUM72100871  23199824-9cf5-4b98-942a-34965c3b0cc2  \n",
       "3  BRUM72003904  35573248-4e49-47c7-af80-08a960fa74cd  \n",
       "4  QZNWQ2070741  2d896d31-97b6-4869-967b-1c5fb9cd4bb8  "
      ]
     },
     "execution_count": 4,
     "metadata": {},
     "output_type": "execute_result"
    }
   ],
   "source": [
    "df.head()"
   ]
  },
  {
   "cell_type": "code",
   "execution_count": 5,
   "id": "5eefad25",
   "metadata": {},
   "outputs": [
    {
     "data": {
      "text/plain": [
       "(226278, 9)"
      ]
     },
     "execution_count": 5,
     "metadata": {},
     "output_type": "execute_result"
    }
   ],
   "source": [
    "df.shape"
   ]
  },
  {
   "cell_type": "code",
   "execution_count": 6,
   "id": "1ff6448d",
   "metadata": {},
   "outputs": [
    {
     "data": {
      "text/plain": [
       "event      object\n",
       "date       object\n",
       "country    object\n",
       "city       object\n",
       "artist     object\n",
       "album      object\n",
       "track      object\n",
       "isrc       object\n",
       "linkid     object\n",
       "dtype: object"
      ]
     },
     "execution_count": 6,
     "metadata": {},
     "output_type": "execute_result"
    }
   ],
   "source": [
    "df.dtypes"
   ]
  },
  {
   "cell_type": "code",
   "execution_count": 7,
   "id": "5de449c8",
   "metadata": {},
   "outputs": [
    {
     "data": {
      "text/html": [
       "<div>\n",
       "<style scoped>\n",
       "    .dataframe tbody tr th:only-of-type {\n",
       "        vertical-align: middle;\n",
       "    }\n",
       "\n",
       "    .dataframe tbody tr th {\n",
       "        vertical-align: top;\n",
       "    }\n",
       "\n",
       "    .dataframe thead th {\n",
       "        text-align: right;\n",
       "    }\n",
       "</style>\n",
       "<table border=\"1\" class=\"dataframe\">\n",
       "  <thead>\n",
       "    <tr style=\"text-align: right;\">\n",
       "      <th></th>\n",
       "      <th>event</th>\n",
       "      <th>date</th>\n",
       "      <th>country</th>\n",
       "      <th>city</th>\n",
       "      <th>artist</th>\n",
       "      <th>album</th>\n",
       "      <th>track</th>\n",
       "      <th>isrc</th>\n",
       "      <th>linkid</th>\n",
       "    </tr>\n",
       "  </thead>\n",
       "  <tbody>\n",
       "    <tr>\n",
       "      <th>count</th>\n",
       "      <td>226278</td>\n",
       "      <td>226278</td>\n",
       "      <td>226267</td>\n",
       "      <td>226267</td>\n",
       "      <td>226241</td>\n",
       "      <td>226273</td>\n",
       "      <td>226273</td>\n",
       "      <td>219157</td>\n",
       "      <td>226278</td>\n",
       "    </tr>\n",
       "    <tr>\n",
       "      <th>unique</th>\n",
       "      <td>3</td>\n",
       "      <td>7</td>\n",
       "      <td>211</td>\n",
       "      <td>11993</td>\n",
       "      <td>2419</td>\n",
       "      <td>3254</td>\n",
       "      <td>3562</td>\n",
       "      <td>709</td>\n",
       "      <td>3839</td>\n",
       "    </tr>\n",
       "    <tr>\n",
       "      <th>top</th>\n",
       "      <td>pageview</td>\n",
       "      <td>2021-08-19</td>\n",
       "      <td>Saudi Arabia</td>\n",
       "      <td>Jeddah</td>\n",
       "      <td>Tesher</td>\n",
       "      <td>Jalebi Baby</td>\n",
       "      <td>Jalebi Baby</td>\n",
       "      <td>QZNWQ2070741</td>\n",
       "      <td>2d896d31-97b6-4869-967b-1c5fb9cd4bb8</td>\n",
       "    </tr>\n",
       "    <tr>\n",
       "      <th>freq</th>\n",
       "      <td>142015</td>\n",
       "      <td>35361</td>\n",
       "      <td>47334</td>\n",
       "      <td>22791</td>\n",
       "      <td>40841</td>\n",
       "      <td>40841</td>\n",
       "      <td>40841</td>\n",
       "      <td>40841</td>\n",
       "      <td>40841</td>\n",
       "    </tr>\n",
       "  </tbody>\n",
       "</table>\n",
       "</div>"
      ],
      "text/plain": [
       "           event        date       country    city  artist        album  \\\n",
       "count     226278      226278        226267  226267  226241       226273   \n",
       "unique         3           7           211   11993    2419         3254   \n",
       "top     pageview  2021-08-19  Saudi Arabia  Jeddah  Tesher  Jalebi Baby   \n",
       "freq      142015       35361         47334   22791   40841        40841   \n",
       "\n",
       "              track          isrc                                linkid  \n",
       "count        226273        219157                                226278  \n",
       "unique         3562           709                                  3839  \n",
       "top     Jalebi Baby  QZNWQ2070741  2d896d31-97b6-4869-967b-1c5fb9cd4bb8  \n",
       "freq          40841         40841                                 40841  "
      ]
     },
     "execution_count": 7,
     "metadata": {},
     "output_type": "execute_result"
    }
   ],
   "source": [
    "df.describe()"
   ]
  },
  {
   "cell_type": "code",
   "execution_count": 8,
   "id": "a4a6a911",
   "metadata": {},
   "outputs": [
    {
     "data": {
      "text/plain": [
       "event         0\n",
       "date          0\n",
       "country      11\n",
       "city         11\n",
       "artist       37\n",
       "album         5\n",
       "track         5\n",
       "isrc       7121\n",
       "linkid        0\n",
       "dtype: int64"
      ]
     },
     "execution_count": 8,
     "metadata": {},
     "output_type": "execute_result"
    }
   ],
   "source": [
    "df.isna().sum()"
   ]
  },
  {
   "cell_type": "code",
   "execution_count": 9,
   "id": "9eefa5e4",
   "metadata": {},
   "outputs": [
    {
     "data": {
      "text/html": [
       "<div>\n",
       "<style scoped>\n",
       "    .dataframe tbody tr th:only-of-type {\n",
       "        vertical-align: middle;\n",
       "    }\n",
       "\n",
       "    .dataframe tbody tr th {\n",
       "        vertical-align: top;\n",
       "    }\n",
       "\n",
       "    .dataframe thead th {\n",
       "        text-align: right;\n",
       "    }\n",
       "</style>\n",
       "<table border=\"1\" class=\"dataframe\">\n",
       "  <thead>\n",
       "    <tr style=\"text-align: right;\">\n",
       "      <th></th>\n",
       "      <th>event</th>\n",
       "      <th>date</th>\n",
       "      <th>country</th>\n",
       "      <th>city</th>\n",
       "      <th>artist</th>\n",
       "      <th>album</th>\n",
       "      <th>track</th>\n",
       "      <th>isrc</th>\n",
       "      <th>linkid</th>\n",
       "    </tr>\n",
       "  </thead>\n",
       "  <tbody>\n",
       "    <tr>\n",
       "      <th>0</th>\n",
       "      <td>click</td>\n",
       "      <td>2021-08-21</td>\n",
       "      <td>Saudi Arabia</td>\n",
       "      <td>Jeddah</td>\n",
       "      <td>Tesher</td>\n",
       "      <td>Jalebi Baby</td>\n",
       "      <td>Jalebi Baby</td>\n",
       "      <td>QZNWQ2070741</td>\n",
       "      <td>2d896d31-97b6-4869-967b-1c5fb9cd4bb8</td>\n",
       "    </tr>\n",
       "    <tr>\n",
       "      <th>1</th>\n",
       "      <td>click</td>\n",
       "      <td>2021-08-21</td>\n",
       "      <td>Saudi Arabia</td>\n",
       "      <td>Jeddah</td>\n",
       "      <td>Tesher</td>\n",
       "      <td>Jalebi Baby</td>\n",
       "      <td>Jalebi Baby</td>\n",
       "      <td>QZNWQ2070741</td>\n",
       "      <td>2d896d31-97b6-4869-967b-1c5fb9cd4bb8</td>\n",
       "    </tr>\n",
       "    <tr>\n",
       "      <th>2</th>\n",
       "      <td>click</td>\n",
       "      <td>2021-08-21</td>\n",
       "      <td>India</td>\n",
       "      <td>Ludhiana</td>\n",
       "      <td>Reyanna Maria</td>\n",
       "      <td>So Pretty</td>\n",
       "      <td>So Pretty</td>\n",
       "      <td>USUM72100871</td>\n",
       "      <td>23199824-9cf5-4b98-942a-34965c3b0cc2</td>\n",
       "    </tr>\n",
       "    <tr>\n",
       "      <th>3</th>\n",
       "      <td>click</td>\n",
       "      <td>2021-08-21</td>\n",
       "      <td>France</td>\n",
       "      <td>Unknown</td>\n",
       "      <td>Simone &amp; Simaria, Sebastian Yatra</td>\n",
       "      <td>No Llores Más</td>\n",
       "      <td>No Llores Más</td>\n",
       "      <td>BRUM72003904</td>\n",
       "      <td>35573248-4e49-47c7-af80-08a960fa74cd</td>\n",
       "    </tr>\n",
       "    <tr>\n",
       "      <th>4</th>\n",
       "      <td>click</td>\n",
       "      <td>2021-08-21</td>\n",
       "      <td>Maldives</td>\n",
       "      <td>Malé</td>\n",
       "      <td>Tesher</td>\n",
       "      <td>Jalebi Baby</td>\n",
       "      <td>Jalebi Baby</td>\n",
       "      <td>QZNWQ2070741</td>\n",
       "      <td>2d896d31-97b6-4869-967b-1c5fb9cd4bb8</td>\n",
       "    </tr>\n",
       "  </tbody>\n",
       "</table>\n",
       "</div>"
      ],
      "text/plain": [
       "   event        date       country      city  \\\n",
       "0  click  2021-08-21  Saudi Arabia    Jeddah   \n",
       "1  click  2021-08-21  Saudi Arabia    Jeddah   \n",
       "2  click  2021-08-21         India  Ludhiana   \n",
       "3  click  2021-08-21        France   Unknown   \n",
       "4  click  2021-08-21      Maldives      Malé   \n",
       "\n",
       "                              artist          album          track  \\\n",
       "0                             Tesher    Jalebi Baby    Jalebi Baby   \n",
       "1                             Tesher    Jalebi Baby    Jalebi Baby   \n",
       "2                      Reyanna Maria      So Pretty      So Pretty   \n",
       "3  Simone & Simaria, Sebastian Yatra  No Llores Más  No Llores Más   \n",
       "4                             Tesher    Jalebi Baby    Jalebi Baby   \n",
       "\n",
       "           isrc                                linkid  \n",
       "0  QZNWQ2070741  2d896d31-97b6-4869-967b-1c5fb9cd4bb8  \n",
       "1  QZNWQ2070741  2d896d31-97b6-4869-967b-1c5fb9cd4bb8  \n",
       "2  USUM72100871  23199824-9cf5-4b98-942a-34965c3b0cc2  \n",
       "3  BRUM72003904  35573248-4e49-47c7-af80-08a960fa74cd  \n",
       "4  QZNWQ2070741  2d896d31-97b6-4869-967b-1c5fb9cd4bb8  "
      ]
     },
     "execution_count": 9,
     "metadata": {},
     "output_type": "execute_result"
    }
   ],
   "source": [
    "df.head()"
   ]
  },
  {
   "cell_type": "markdown",
   "id": "b017c78f",
   "metadata": {},
   "source": [
    "Q1\n",
    "How many total pageview events did the links in the provided dataset receive in the full period, how many per day?"
   ]
  },
  {
   "cell_type": "code",
   "execution_count": 10,
   "id": "2d9596b4",
   "metadata": {},
   "outputs": [
    {
     "data": {
      "text/plain": [
       "pageview    142015\n",
       "click        55732\n",
       "preview      28531\n",
       "Name: event, dtype: int64"
      ]
     },
     "execution_count": 10,
     "metadata": {},
     "output_type": "execute_result"
    }
   ],
   "source": [
    "df[\"event\"].value_counts()"
   ]
  },
  {
   "cell_type": "code",
   "execution_count": 11,
   "id": "d2a50a3a",
   "metadata": {},
   "outputs": [
    {
     "data": {
      "text/plain": [
       "142015"
      ]
     },
     "execution_count": 11,
     "metadata": {},
     "output_type": "execute_result"
    }
   ],
   "source": [
    "df[df[\"event\"] == \"pageview\"].shape[0]"
   ]
  },
  {
   "cell_type": "code",
   "execution_count": 12,
   "id": "beabf703",
   "metadata": {},
   "outputs": [
    {
     "data": {
      "text/plain": [
       "date\n",
       "2021-08-19    22366\n",
       "2021-08-20    21382\n",
       "2021-08-21    21349\n",
       "2021-08-22    20430\n",
       "2021-08-23    18646\n",
       "2021-08-24    18693\n",
       "2021-08-25    19149\n",
       "Name: event, dtype: int64"
      ]
     },
     "execution_count": 12,
     "metadata": {},
     "output_type": "execute_result"
    }
   ],
   "source": [
    "df[df[\"event\"] == \"pageview\"].\\\n",
    "groupby(by=\"date\")[\"event\"].count()"
   ]
  },
  {
   "cell_type": "code",
   "execution_count": 13,
   "id": "3c3524f2",
   "metadata": {},
   "outputs": [],
   "source": [
    "df_unique = df.drop_duplicates()"
   ]
  },
  {
   "cell_type": "code",
   "execution_count": 23,
   "id": "87e8e816",
   "metadata": {},
   "outputs": [
    {
     "data": {
      "text/plain": [
       "pageview    73360\n",
       "click       32499\n",
       "preview     16708\n",
       "Name: event, dtype: int64"
      ]
     },
     "execution_count": 23,
     "metadata": {},
     "output_type": "execute_result"
    }
   ],
   "source": [
    "df_unique[\"event\"].value_counts()"
   ]
  },
  {
   "cell_type": "code",
   "execution_count": 14,
   "id": "daba48da",
   "metadata": {},
   "outputs": [
    {
     "data": {
      "text/plain": [
       "73360"
      ]
     },
     "execution_count": 14,
     "metadata": {},
     "output_type": "execute_result"
    }
   ],
   "source": [
    "df_unique[df_unique[\"event\"] == \"pageview\"].shape[0]"
   ]
  },
  {
   "cell_type": "code",
   "execution_count": 15,
   "id": "eee7d452",
   "metadata": {},
   "outputs": [
    {
     "data": {
      "text/html": [
       "<div>\n",
       "<style scoped>\n",
       "    .dataframe tbody tr th:only-of-type {\n",
       "        vertical-align: middle;\n",
       "    }\n",
       "\n",
       "    .dataframe tbody tr th {\n",
       "        vertical-align: top;\n",
       "    }\n",
       "\n",
       "    .dataframe thead th {\n",
       "        text-align: right;\n",
       "    }\n",
       "</style>\n",
       "<table border=\"1\" class=\"dataframe\">\n",
       "  <thead>\n",
       "    <tr style=\"text-align: right;\">\n",
       "      <th></th>\n",
       "      <th>date</th>\n",
       "      <th>event</th>\n",
       "    </tr>\n",
       "  </thead>\n",
       "  <tbody>\n",
       "    <tr>\n",
       "      <th>0</th>\n",
       "      <td>2021-08-19</td>\n",
       "      <td>13006</td>\n",
       "    </tr>\n",
       "    <tr>\n",
       "      <th>1</th>\n",
       "      <td>2021-08-20</td>\n",
       "      <td>11088</td>\n",
       "    </tr>\n",
       "    <tr>\n",
       "      <th>2</th>\n",
       "      <td>2021-08-21</td>\n",
       "      <td>9939</td>\n",
       "    </tr>\n",
       "    <tr>\n",
       "      <th>3</th>\n",
       "      <td>2021-08-22</td>\n",
       "      <td>9982</td>\n",
       "    </tr>\n",
       "    <tr>\n",
       "      <th>4</th>\n",
       "      <td>2021-08-23</td>\n",
       "      <td>9722</td>\n",
       "    </tr>\n",
       "    <tr>\n",
       "      <th>5</th>\n",
       "      <td>2021-08-24</td>\n",
       "      <td>9705</td>\n",
       "    </tr>\n",
       "    <tr>\n",
       "      <th>6</th>\n",
       "      <td>2021-08-25</td>\n",
       "      <td>9918</td>\n",
       "    </tr>\n",
       "  </tbody>\n",
       "</table>\n",
       "</div>"
      ],
      "text/plain": [
       "         date  event\n",
       "0  2021-08-19  13006\n",
       "1  2021-08-20  11088\n",
       "2  2021-08-21   9939\n",
       "3  2021-08-22   9982\n",
       "4  2021-08-23   9722\n",
       "5  2021-08-24   9705\n",
       "6  2021-08-25   9918"
      ]
     },
     "execution_count": 15,
     "metadata": {},
     "output_type": "execute_result"
    }
   ],
   "source": [
    "df_unique[df_unique[\"event\"] == \"pageview\"].\\\n",
    "groupby('date', as_index=False).\\\n",
    "agg({'event':'count'})"
   ]
  },
  {
   "cell_type": "markdown",
   "id": "8e2ba7c6",
   "metadata": {},
   "source": [
    "Q2\n",
    "What about the other recorded events?"
   ]
  },
  {
   "cell_type": "code",
   "execution_count": 32,
   "id": "de033c83",
   "metadata": {},
   "outputs": [
    {
     "data": {
      "text/plain": [
       "array(['click', 'preview', 'pageview'], dtype=object)"
      ]
     },
     "execution_count": 32,
     "metadata": {},
     "output_type": "execute_result"
    }
   ],
   "source": [
    "df['event'].unique()"
   ]
  },
  {
   "cell_type": "code",
   "execution_count": 16,
   "id": "6d837400",
   "metadata": {},
   "outputs": [
    {
     "data": {
      "text/plain": [
       "date\n",
       "2021-08-19    9207\n",
       "2021-08-20    8508\n",
       "2021-08-21    8071\n",
       "2021-08-22    7854\n",
       "2021-08-23    7315\n",
       "2021-08-24    7301\n",
       "2021-08-25    7476\n",
       "Name: event, dtype: int64"
      ]
     },
     "execution_count": 16,
     "metadata": {},
     "output_type": "execute_result"
    }
   ],
   "source": [
    "df[df[\"event\"] == \"click\"].\\\n",
    "groupby(by=\"date\")[\"event\"].count()"
   ]
  },
  {
   "cell_type": "code",
   "execution_count": 17,
   "id": "28d7ea6d",
   "metadata": {},
   "outputs": [
    {
     "data": {
      "text/plain": [
       "date\n",
       "2021-08-19    3788\n",
       "2021-08-20    4222\n",
       "2021-08-21    4663\n",
       "2021-08-22    4349\n",
       "2021-08-23    3847\n",
       "2021-08-24    3840\n",
       "2021-08-25    3822\n",
       "Name: event, dtype: int64"
      ]
     },
     "execution_count": 17,
     "metadata": {},
     "output_type": "execute_result"
    }
   ],
   "source": [
    "df[df[\"event\"] == \"preview\"].\\\n",
    "groupby(by=\"date\")[\"event\"].count()"
   ]
  },
  {
   "cell_type": "markdown",
   "id": "3a2717fc",
   "metadata": {},
   "source": [
    "Q3\n",
    "Which countries did the clicks come from?"
   ]
  },
  {
   "cell_type": "code",
   "execution_count": 36,
   "id": "9f9b3413",
   "metadata": {},
   "outputs": [
    {
     "data": {
      "text/plain": [
       "202"
      ]
     },
     "execution_count": 36,
     "metadata": {},
     "output_type": "execute_result"
    }
   ],
   "source": [
    "df[df[\"event\"] == \"click\"]['country'].dropna().nunique()"
   ]
  },
  {
   "cell_type": "code",
   "execution_count": 37,
   "id": "65851c20",
   "metadata": {},
   "outputs": [
    {
     "data": {
      "text/plain": [
       "array(['Saudi Arabia', 'India', 'France', 'Maldives', 'United States',\n",
       "       'Sierra Leone', 'United Kingdom', 'Sweden', 'United Arab Emirates',\n",
       "       'Qatar', 'Germany', 'Albania', 'Iraq', 'Romania', 'Morocco',\n",
       "       'Kuwait', 'Nigeria', 'Finland', 'Bangladesh', 'Fiji', 'Turkey',\n",
       "       'Russia', 'Belgium', 'Norway', 'Cabo Verde', 'Italy', 'Austria',\n",
       "       'Libya', 'Pakistan', 'Bahrain', 'Tunisia', 'DR Congo', 'Australia',\n",
       "       'Canada', 'Kenya', 'French Guiana', 'Jordan', 'Netherlands',\n",
       "       'Somalia', 'Mexico', 'Oman', 'Sri Lanka', 'Ecuador', 'Latvia',\n",
       "       'Guatemala', 'South Africa', 'Bosnia and Herzegovina', 'Yemen',\n",
       "       'Switzerland', 'Slovenia', 'Mauritania', 'Cameroon', 'Spain',\n",
       "       'Thailand', 'Egypt', 'Poland', 'Ghana', 'Gabon', 'Greece',\n",
       "       'Burkina Faso', 'Malaysia', 'Zambia', 'American Samoa', 'Algeria',\n",
       "       'Uganda', 'Bulgaria', 'Denmark', 'Colombia', 'Portugal', 'Senegal',\n",
       "       'Ireland', 'Panama', 'Serbia', 'Haiti', 'Honduras', 'Tanzania',\n",
       "       'Nepal', 'Palestine', 'Paraguay', 'Brazil', 'Niger', 'Lebanon',\n",
       "       'Jamaica', 'Georgia', 'Hungary', 'Philippines', 'Botswana',\n",
       "       'Israel', 'Ukraine', 'Peru', 'Hong Kong', 'Iceland', 'Estonia',\n",
       "       'Singapore', 'Azerbaijan', 'Mali', 'Mozambique', 'Ivory Coast',\n",
       "       'Guinea', 'Ethiopia', 'Dominican Republic', 'Martinique',\n",
       "       'Nicaragua', 'Turks and Caicos Islands', 'Kyrgyzstan', 'Réunion',\n",
       "       'Bhutan', 'Kosovo', 'New Zealand', 'Croatia', 'Belize', 'Japan',\n",
       "       'Lithuania', 'Angola', 'Puerto Rico', 'Luxembourg', 'Benin',\n",
       "       'Slovakia', 'Indonesia', 'Djibouti', 'Bahamas', 'Togo', 'Armenia',\n",
       "       'Argentina', 'Bolivia', 'South Korea', 'Iran', 'Moldova', 'Rwanda',\n",
       "       'Zimbabwe', 'Cayman Islands', 'Burundi', 'Montenegro', 'Malta',\n",
       "       'Costa Rica', 'El Salvador', 'Czechia', 'Venezuela',\n",
       "       'Papua New Guinea', 'Congo Republic', 'Sudan', 'North Macedonia',\n",
       "       'Uzbekistan', 'Myanmar', 'Trinidad and Tobago', 'Aruba', 'Guyana',\n",
       "       'Mongolia', 'Barbados', 'Curaçao', 'Liberia', 'Mauritius', 'Chile',\n",
       "       'Suriname', 'Cambodia', 'China', 'Kazakhstan', 'Namibia',\n",
       "       'U.S. Virgin Islands', 'Chad', 'Greenland', 'Mayotte',\n",
       "       'Marshall Islands', 'Saint Martin',\n",
       "       'Saint Vincent and the Grenadines', 'Dominica', 'Gambia',\n",
       "       'Eswatini', 'Comoros', 'Laos', 'Cyprus', 'Guadeloupe', 'Eritrea',\n",
       "       'Tajikistan', 'Liechtenstein', 'Uruguay', 'Antigua and Barbuda',\n",
       "       'Anguilla', 'Seychelles', 'British Virgin Islands', 'Grenada',\n",
       "       'French Polynesia', 'Vietnam', 'Saint Lucia', 'Wallis and Futuna',\n",
       "       'Gibraltar', 'St Kitts and Nevis', 'Belarus', 'Taiwan', 'Syria',\n",
       "       'Isle of Man', 'Madagascar', 'New Caledonia',\n",
       "       'Central African Republic', 'Malawi', 'Bermuda', 'Solomon Islands',\n",
       "       'Guernsey', 'Palau', 'Åland', 'Principality of Monaco', 'Brunei'],\n",
       "      dtype=object)"
      ]
     },
     "execution_count": 37,
     "metadata": {},
     "output_type": "execute_result"
    }
   ],
   "source": [
    "df[df[\"event\"] == \"click\"]['country'].dropna().unique()"
   ]
  },
  {
   "cell_type": "markdown",
   "id": "a867009f",
   "metadata": {},
   "source": [
    "Q4\n",
    "What was the overall click rate (clicks/pageviews)?"
   ]
  },
  {
   "cell_type": "code",
   "execution_count": 18,
   "id": "4e2dd488",
   "metadata": {},
   "outputs": [],
   "source": [
    "dff = df[df.event != 'preview'].groupby(['linkid','event'], as_index=False )\\\n",
    ".agg({'date':'count'})\\\n",
    ".pivot(index='linkid', columns='event', values='date')\\\n",
    ".reset_index()"
   ]
  },
  {
   "cell_type": "code",
   "execution_count": 19,
   "id": "98eae747",
   "metadata": {},
   "outputs": [],
   "source": [
    "dff = dff.dropna()"
   ]
  },
  {
   "cell_type": "code",
   "execution_count": 20,
   "id": "ed882b86",
   "metadata": {},
   "outputs": [],
   "source": [
    "dff['rate']=dff['click']/dff['pageview']"
   ]
  },
  {
   "cell_type": "code",
   "execution_count": 21,
   "id": "cfd9e974",
   "metadata": {},
   "outputs": [
    {
     "data": {
      "text/html": [
       "<div>\n",
       "<style scoped>\n",
       "    .dataframe tbody tr th:only-of-type {\n",
       "        vertical-align: middle;\n",
       "    }\n",
       "\n",
       "    .dataframe tbody tr th {\n",
       "        vertical-align: top;\n",
       "    }\n",
       "\n",
       "    .dataframe thead th {\n",
       "        text-align: right;\n",
       "    }\n",
       "</style>\n",
       "<table border=\"1\" class=\"dataframe\">\n",
       "  <thead>\n",
       "    <tr style=\"text-align: right;\">\n",
       "      <th>event</th>\n",
       "      <th>linkid</th>\n",
       "      <th>click</th>\n",
       "      <th>pageview</th>\n",
       "      <th>rate</th>\n",
       "    </tr>\n",
       "  </thead>\n",
       "  <tbody>\n",
       "    <tr>\n",
       "      <th>1</th>\n",
       "      <td>00126b32-0c35-507b-981c-02c80d2aa8e7</td>\n",
       "      <td>2.0</td>\n",
       "      <td>2.0</td>\n",
       "      <td>1.000000</td>\n",
       "    </tr>\n",
       "    <tr>\n",
       "      <th>6</th>\n",
       "      <td>004b9724-abca-5481-b6e9-6148a7ca00a5</td>\n",
       "      <td>1.0</td>\n",
       "      <td>1.0</td>\n",
       "      <td>1.000000</td>\n",
       "    </tr>\n",
       "    <tr>\n",
       "      <th>9</th>\n",
       "      <td>0063a982-41cd-5629-96d0-e1c4dd72ea11</td>\n",
       "      <td>2.0</td>\n",
       "      <td>3.0</td>\n",
       "      <td>0.666667</td>\n",
       "    </tr>\n",
       "    <tr>\n",
       "      <th>10</th>\n",
       "      <td>006af6a0-1f0d-4b0c-93bf-756af9071c06</td>\n",
       "      <td>8.0</td>\n",
       "      <td>36.0</td>\n",
       "      <td>0.222222</td>\n",
       "    </tr>\n",
       "    <tr>\n",
       "      <th>11</th>\n",
       "      <td>00759b81-3f04-4a61-b934-f8fb3185f4a0</td>\n",
       "      <td>3.0</td>\n",
       "      <td>4.0</td>\n",
       "      <td>0.750000</td>\n",
       "    </tr>\n",
       "    <tr>\n",
       "      <th>...</th>\n",
       "      <td>...</td>\n",
       "      <td>...</td>\n",
       "      <td>...</td>\n",
       "      <td>...</td>\n",
       "    </tr>\n",
       "    <tr>\n",
       "      <th>3831</th>\n",
       "      <td>ffd8d5a7-91bc-48e1-a692-c26fca8a8ead</td>\n",
       "      <td>29.0</td>\n",
       "      <td>84.0</td>\n",
       "      <td>0.345238</td>\n",
       "    </tr>\n",
       "    <tr>\n",
       "      <th>3834</th>\n",
       "      <td>fff38ca0-8043-50cd-a5f1-f65ebb7105c5</td>\n",
       "      <td>1.0</td>\n",
       "      <td>1.0</td>\n",
       "      <td>1.000000</td>\n",
       "    </tr>\n",
       "    <tr>\n",
       "      <th>3836</th>\n",
       "      <td>fff84c0e-90a1-59d8-9997-adc909d50e16</td>\n",
       "      <td>1.0</td>\n",
       "      <td>1.0</td>\n",
       "      <td>1.000000</td>\n",
       "    </tr>\n",
       "    <tr>\n",
       "      <th>3837</th>\n",
       "      <td>fffc17a7-f935-5d3e-bd3e-d761fd80d479</td>\n",
       "      <td>1.0</td>\n",
       "      <td>2.0</td>\n",
       "      <td>0.500000</td>\n",
       "    </tr>\n",
       "    <tr>\n",
       "      <th>3838</th>\n",
       "      <td>fffd0045-29de-522b-b5d8-35786363bf07</td>\n",
       "      <td>1.0</td>\n",
       "      <td>2.0</td>\n",
       "      <td>0.500000</td>\n",
       "    </tr>\n",
       "  </tbody>\n",
       "</table>\n",
       "<p>2253 rows × 4 columns</p>\n",
       "</div>"
      ],
      "text/plain": [
       "event                                linkid  click  pageview      rate\n",
       "1      00126b32-0c35-507b-981c-02c80d2aa8e7    2.0       2.0  1.000000\n",
       "6      004b9724-abca-5481-b6e9-6148a7ca00a5    1.0       1.0  1.000000\n",
       "9      0063a982-41cd-5629-96d0-e1c4dd72ea11    2.0       3.0  0.666667\n",
       "10     006af6a0-1f0d-4b0c-93bf-756af9071c06    8.0      36.0  0.222222\n",
       "11     00759b81-3f04-4a61-b934-f8fb3185f4a0    3.0       4.0  0.750000\n",
       "...                                     ...    ...       ...       ...\n",
       "3831   ffd8d5a7-91bc-48e1-a692-c26fca8a8ead   29.0      84.0  0.345238\n",
       "3834   fff38ca0-8043-50cd-a5f1-f65ebb7105c5    1.0       1.0  1.000000\n",
       "3836   fff84c0e-90a1-59d8-9997-adc909d50e16    1.0       1.0  1.000000\n",
       "3837   fffc17a7-f935-5d3e-bd3e-d761fd80d479    1.0       2.0  0.500000\n",
       "3838   fffd0045-29de-522b-b5d8-35786363bf07    1.0       2.0  0.500000\n",
       "\n",
       "[2253 rows x 4 columns]"
      ]
     },
     "execution_count": 21,
     "metadata": {},
     "output_type": "execute_result"
    }
   ],
   "source": [
    "dff"
   ]
  },
  {
   "cell_type": "markdown",
   "id": "fc025c32",
   "metadata": {},
   "source": [
    "Q5\n",
    "How does the clickrate distribute across different links?"
   ]
  },
  {
   "cell_type": "code",
   "execution_count": 22,
   "id": "e58dffe4",
   "metadata": {},
   "outputs": [
    {
     "data": {
      "text/plain": [
       "count    2253.000000\n",
       "mean        0.809920\n",
       "std         1.958030\n",
       "min         0.090909\n",
       "25%         0.500000\n",
       "50%         1.000000\n",
       "75%         1.000000\n",
       "max        92.300000\n",
       "Name: rate, dtype: float64"
      ]
     },
     "execution_count": 22,
     "metadata": {},
     "output_type": "execute_result"
    }
   ],
   "source": [
    "dff[\"rate\"].describe()"
   ]
  },
  {
   "cell_type": "code",
   "execution_count": 23,
   "id": "38f04bec",
   "metadata": {},
   "outputs": [
    {
     "data": {
      "image/png": "[encoded data removed]",
      "text/plain": [
       "<Figure size 800x800 with 1 Axes>"
      ]
     },
     "metadata": {},
     "output_type": "display_data"
    }
   ],
   "source": [
    "ax = dff[\"rate\"].plot(kind=\"hist\", figsize=(8, 8), bins=100)"
   ]
  },
  {
   "cell_type": "code",
   "execution_count": 24,
   "id": "1871a276",
   "metadata": {},
   "outputs": [
    {
     "data": {
      "image/png": "[encoded data removed]",
      "text/plain": [
       "<Figure size 800x800 with 1 Axes>"
      ]
     },
     "metadata": {},
     "output_type": "display_data"
    }
   ],
   "source": [
    "dff['rate_log'] = np.log(dff['rate'])\n",
    "ax = dff['rate_log'].plot(kind='hist', figsize=(8, 8), bins=100)"
   ]
  },
  {
   "cell_type": "code",
   "execution_count": 25,
   "id": "da2d5349",
   "metadata": {},
   "outputs": [
    {
     "data": {
      "image/png": "[encoded data removed]",
      "text/plain": [
       "<Figure size 640x480 with 1 Axes>"
      ]
     },
     "metadata": {},
     "output_type": "display_data"
    }
   ],
   "source": [
    "ax = dff.boxplot(column=\"rate_log\")"
   ]
  },
  {
   "cell_type": "code",
   "execution_count": 26,
   "id": "67d0c817",
   "metadata": {},
   "outputs": [
    {
     "data": {
      "text/plain": [
       "count    2253.000000\n",
       "mean       -0.373334\n",
       "std         0.517287\n",
       "min        -2.397895\n",
       "25%        -0.693147\n",
       "50%         0.000000\n",
       "75%         0.000000\n",
       "max         4.525044\n",
       "Name: rate_log, dtype: float64"
      ]
     },
     "execution_count": 26,
     "metadata": {},
     "output_type": "execute_result"
    }
   ],
   "source": [
    "dff[\"rate_log\"].describe()"
   ]
  },
  {
   "cell_type": "markdown",
   "id": "ef23e1ed",
   "metadata": {},
   "source": [
    "Q5\n",
    "Is there any correlation between clicks and previews on a link? Is it significant? How large is the effect?"
   ]
  },
  {
   "cell_type": "code",
   "execution_count": 27,
   "id": "2f4f8e5b",
   "metadata": {},
   "outputs": [
    {
     "data": {
      "text/html": [
       "<div>\n",
       "<style scoped>\n",
       "    .dataframe tbody tr th:only-of-type {\n",
       "        vertical-align: middle;\n",
       "    }\n",
       "\n",
       "    .dataframe tbody tr th {\n",
       "        vertical-align: top;\n",
       "    }\n",
       "\n",
       "    .dataframe thead th {\n",
       "        text-align: right;\n",
       "    }\n",
       "</style>\n",
       "<table border=\"1\" class=\"dataframe\">\n",
       "  <thead>\n",
       "    <tr style=\"text-align: right;\">\n",
       "      <th></th>\n",
       "      <th></th>\n",
       "      <th>date</th>\n",
       "    </tr>\n",
       "    <tr>\n",
       "      <th>linkid</th>\n",
       "      <th>event</th>\n",
       "      <th></th>\n",
       "    </tr>\n",
       "  </thead>\n",
       "  <tbody>\n",
       "    <tr>\n",
       "      <th>006af6a0-1f0d-4b0c-93bf-756af9071c06</th>\n",
       "      <th>preview</th>\n",
       "      <td>11</td>\n",
       "    </tr>\n",
       "    <tr>\n",
       "      <th>00759b81-3f04-4a61-b934-f8fb3185f4a0</th>\n",
       "      <th>preview</th>\n",
       "      <td>1</td>\n",
       "    </tr>\n",
       "    <tr>\n",
       "      <th>00829040-ee01-4409-966d-d67c7965144a</th>\n",
       "      <th>preview</th>\n",
       "      <td>9</td>\n",
       "    </tr>\n",
       "    <tr>\n",
       "      <th>00de7566-f014-4d20-8616-82e4dea45b88</th>\n",
       "      <th>preview</th>\n",
       "      <td>1</td>\n",
       "    </tr>\n",
       "    <tr>\n",
       "      <th>0211bf4d-0e9d-46c2-889c-f97872280820</th>\n",
       "      <th>preview</th>\n",
       "      <td>141</td>\n",
       "    </tr>\n",
       "    <tr>\n",
       "      <th>...</th>\n",
       "      <th>...</th>\n",
       "      <td>...</td>\n",
       "    </tr>\n",
       "    <tr>\n",
       "      <th>fd647d87-4c7a-4dd1-92c6-0e7dd7fdf4f1</th>\n",
       "      <th>preview</th>\n",
       "      <td>101</td>\n",
       "    </tr>\n",
       "    <tr>\n",
       "      <th>fe24ad63-e347-40db-8e75-94e573bd3d9b</th>\n",
       "      <th>preview</th>\n",
       "      <td>1</td>\n",
       "    </tr>\n",
       "    <tr>\n",
       "      <th>fe8a3fcd-7beb-4db0-8494-5238e1e1cab3</th>\n",
       "      <th>preview</th>\n",
       "      <td>57</td>\n",
       "    </tr>\n",
       "    <tr>\n",
       "      <th>fe8f7a23-be9d-49a6-b9b5-d26823c3f911</th>\n",
       "      <th>preview</th>\n",
       "      <td>22</td>\n",
       "    </tr>\n",
       "    <tr>\n",
       "      <th>ffd8d5a7-91bc-48e1-a692-c26fca8a8ead</th>\n",
       "      <th>preview</th>\n",
       "      <td>21</td>\n",
       "    </tr>\n",
       "  </tbody>\n",
       "</table>\n",
       "<p>495 rows × 1 columns</p>\n",
       "</div>"
      ],
      "text/plain": [
       "                                              date\n",
       "linkid                               event        \n",
       "006af6a0-1f0d-4b0c-93bf-756af9071c06 preview    11\n",
       "00759b81-3f04-4a61-b934-f8fb3185f4a0 preview     1\n",
       "00829040-ee01-4409-966d-d67c7965144a preview     9\n",
       "00de7566-f014-4d20-8616-82e4dea45b88 preview     1\n",
       "0211bf4d-0e9d-46c2-889c-f97872280820 preview   141\n",
       "...                                            ...\n",
       "fd647d87-4c7a-4dd1-92c6-0e7dd7fdf4f1 preview   101\n",
       "fe24ad63-e347-40db-8e75-94e573bd3d9b preview     1\n",
       "fe8a3fcd-7beb-4db0-8494-5238e1e1cab3 preview    57\n",
       "fe8f7a23-be9d-49a6-b9b5-d26823c3f911 preview    22\n",
       "ffd8d5a7-91bc-48e1-a692-c26fca8a8ead preview    21\n",
       "\n",
       "[495 rows x 1 columns]"
      ]
     },
     "execution_count": 27,
     "metadata": {},
     "output_type": "execute_result"
    }
   ],
   "source": [
    "df[df['event'].isin(['preview','cliks'])]\\\n",
    ".groupby(['linkid','event'])\\\n",
    ".agg({'date':'count'})"
   ]
  },
  {
   "cell_type": "code",
   "execution_count": 28,
   "id": "34c61906",
   "metadata": {},
   "outputs": [],
   "source": [
    "df1 = df[df.event != 'pageview'].groupby(['linkid','event'], as_index=False )\\\n",
    ".agg({'date':'count'})\\\n",
    ".pivot(index='linkid', columns='event', values='date')\\\n",
    ".reset_index()"
   ]
  },
  {
   "cell_type": "code",
   "execution_count": 144,
   "id": "21a4b845",
   "metadata": {},
   "outputs": [
    {
     "data": {
      "text/html": [
       "<div>\n",
       "<style scoped>\n",
       "    .dataframe tbody tr th:only-of-type {\n",
       "        vertical-align: middle;\n",
       "    }\n",
       "\n",
       "    .dataframe tbody tr th {\n",
       "        vertical-align: top;\n",
       "    }\n",
       "\n",
       "    .dataframe thead th {\n",
       "        text-align: right;\n",
       "    }\n",
       "</style>\n",
       "<table border=\"1\" class=\"dataframe\">\n",
       "  <thead>\n",
       "    <tr style=\"text-align: right;\">\n",
       "      <th>event</th>\n",
       "      <th>linkid</th>\n",
       "      <th>click</th>\n",
       "      <th>preview</th>\n",
       "    </tr>\n",
       "  </thead>\n",
       "  <tbody>\n",
       "    <tr>\n",
       "      <th>439</th>\n",
       "      <td>2d896d31-97b6-4869-967b-1c5fb9cd4bb8</td>\n",
       "      <td>9692.0</td>\n",
       "      <td>5974.0</td>\n",
       "    </tr>\n",
       "    <tr>\n",
       "      <th>2088</th>\n",
       "      <td>e849515b-929d-44c8-a505-e7622f1827e9</td>\n",
       "      <td>2198.0</td>\n",
       "      <td>1571.0</td>\n",
       "    </tr>\n",
       "    <tr>\n",
       "      <th>770</th>\n",
       "      <td>522da5cc-8177-4140-97a7-a84fdb4caf1c</td>\n",
       "      <td>2109.0</td>\n",
       "      <td>1605.0</td>\n",
       "    </tr>\n",
       "    <tr>\n",
       "      <th>970</th>\n",
       "      <td>681d888a-59ce-4acb-b7c5-95dab0c063d9</td>\n",
       "      <td>1500.0</td>\n",
       "      <td>658.0</td>\n",
       "    </tr>\n",
       "    <tr>\n",
       "      <th>1765</th>\n",
       "      <td>c2c876ab-b093-4750-9449-6b4913da6af3</td>\n",
       "      <td>1429.0</td>\n",
       "      <td>1001.0</td>\n",
       "    </tr>\n",
       "    <tr>\n",
       "      <th>...</th>\n",
       "      <td>...</td>\n",
       "      <td>...</td>\n",
       "      <td>...</td>\n",
       "    </tr>\n",
       "    <tr>\n",
       "      <th>1846</th>\n",
       "      <td>cc172576-975d-46b1-91d0-efbb617577e7</td>\n",
       "      <td>NaN</td>\n",
       "      <td>1.0</td>\n",
       "    </tr>\n",
       "    <tr>\n",
       "      <th>1921</th>\n",
       "      <td>d4a7b0a4-861c-4635-b361-300e5c0f5595</td>\n",
       "      <td>NaN</td>\n",
       "      <td>1.0</td>\n",
       "    </tr>\n",
       "    <tr>\n",
       "      <th>1977</th>\n",
       "      <td>da232b3a-405d-4e90-8f75-679f397f2b08</td>\n",
       "      <td>NaN</td>\n",
       "      <td>1.0</td>\n",
       "    </tr>\n",
       "    <tr>\n",
       "      <th>2083</th>\n",
       "      <td>e7da3823-551d-4d9f-9d88-8a1d012043ed</td>\n",
       "      <td>NaN</td>\n",
       "      <td>1.0</td>\n",
       "    </tr>\n",
       "    <tr>\n",
       "      <th>2253</th>\n",
       "      <td>fbe34b4e-9e29-4dd4-bc6a-63c384b2cf4a</td>\n",
       "      <td>NaN</td>\n",
       "      <td>1.0</td>\n",
       "    </tr>\n",
       "  </tbody>\n",
       "</table>\n",
       "<p>2286 rows × 3 columns</p>\n",
       "</div>"
      ],
      "text/plain": [
       "event                                linkid   click  preview\n",
       "439    2d896d31-97b6-4869-967b-1c5fb9cd4bb8  9692.0   5974.0\n",
       "2088   e849515b-929d-44c8-a505-e7622f1827e9  2198.0   1571.0\n",
       "770    522da5cc-8177-4140-97a7-a84fdb4caf1c  2109.0   1605.0\n",
       "970    681d888a-59ce-4acb-b7c5-95dab0c063d9  1500.0    658.0\n",
       "1765   c2c876ab-b093-4750-9449-6b4913da6af3  1429.0   1001.0\n",
       "...                                     ...     ...      ...\n",
       "1846   cc172576-975d-46b1-91d0-efbb617577e7     NaN      1.0\n",
       "1921   d4a7b0a4-861c-4635-b361-300e5c0f5595     NaN      1.0\n",
       "1977   da232b3a-405d-4e90-8f75-679f397f2b08     NaN      1.0\n",
       "2083   e7da3823-551d-4d9f-9d88-8a1d012043ed     NaN      1.0\n",
       "2253   fbe34b4e-9e29-4dd4-bc6a-63c384b2cf4a     NaN      1.0\n",
       "\n",
       "[2286 rows x 3 columns]"
      ]
     },
     "execution_count": 144,
     "metadata": {},
     "output_type": "execute_result"
    }
   ],
   "source": [
    "df1.sort_values(by='click', ascending=False)"
   ]
  },
  {
   "cell_type": "code",
   "execution_count": 32,
   "id": "48b9da75",
   "metadata": {},
   "outputs": [],
   "source": [
    "df1.dropna(subset=[\"click\", \"preview\"], inplace=True) "
   ]
  },
  {
   "cell_type": "code",
   "execution_count": 33,
   "id": "8fdab5ea",
   "metadata": {},
   "outputs": [
    {
     "data": {
      "text/html": [
       "<div>\n",
       "<style scoped>\n",
       "    .dataframe tbody tr th:only-of-type {\n",
       "        vertical-align: middle;\n",
       "    }\n",
       "\n",
       "    .dataframe tbody tr th {\n",
       "        vertical-align: top;\n",
       "    }\n",
       "\n",
       "    .dataframe thead th {\n",
       "        text-align: right;\n",
       "    }\n",
       "</style>\n",
       "<table border=\"1\" class=\"dataframe\">\n",
       "  <thead>\n",
       "    <tr style=\"text-align: right;\">\n",
       "      <th>event</th>\n",
       "      <th>linkid</th>\n",
       "      <th>click</th>\n",
       "      <th>preview</th>\n",
       "    </tr>\n",
       "  </thead>\n",
       "  <tbody>\n",
       "    <tr>\n",
       "      <th>439</th>\n",
       "      <td>2d896d31-97b6-4869-967b-1c5fb9cd4bb8</td>\n",
       "      <td>9692.0</td>\n",
       "      <td>5974.0</td>\n",
       "    </tr>\n",
       "    <tr>\n",
       "      <th>2088</th>\n",
       "      <td>e849515b-929d-44c8-a505-e7622f1827e9</td>\n",
       "      <td>2198.0</td>\n",
       "      <td>1571.0</td>\n",
       "    </tr>\n",
       "    <tr>\n",
       "      <th>770</th>\n",
       "      <td>522da5cc-8177-4140-97a7-a84fdb4caf1c</td>\n",
       "      <td>2109.0</td>\n",
       "      <td>1605.0</td>\n",
       "    </tr>\n",
       "    <tr>\n",
       "      <th>970</th>\n",
       "      <td>681d888a-59ce-4acb-b7c5-95dab0c063d9</td>\n",
       "      <td>1500.0</td>\n",
       "      <td>658.0</td>\n",
       "    </tr>\n",
       "    <tr>\n",
       "      <th>1765</th>\n",
       "      <td>c2c876ab-b093-4750-9449-6b4913da6af3</td>\n",
       "      <td>1429.0</td>\n",
       "      <td>1001.0</td>\n",
       "    </tr>\n",
       "    <tr>\n",
       "      <th>...</th>\n",
       "      <td>...</td>\n",
       "      <td>...</td>\n",
       "      <td>...</td>\n",
       "    </tr>\n",
       "    <tr>\n",
       "      <th>1231</th>\n",
       "      <td>85de285e-8c72-4fc1-a1c7-ce2f34121ca1</td>\n",
       "      <td>1.0</td>\n",
       "      <td>1.0</td>\n",
       "    </tr>\n",
       "    <tr>\n",
       "      <th>399</th>\n",
       "      <td>297fa1f6-7505-49b3-8210-a9ee2ba92091</td>\n",
       "      <td>1.0</td>\n",
       "      <td>2.0</td>\n",
       "    </tr>\n",
       "    <tr>\n",
       "      <th>2082</th>\n",
       "      <td>e7d83d9f-7119-48d4-b570-e6af90976e34</td>\n",
       "      <td>1.0</td>\n",
       "      <td>1.0</td>\n",
       "    </tr>\n",
       "    <tr>\n",
       "      <th>380</th>\n",
       "      <td>27c6ad2e-f5b0-4584-a803-33111b48d48d</td>\n",
       "      <td>1.0</td>\n",
       "      <td>1.0</td>\n",
       "    </tr>\n",
       "    <tr>\n",
       "      <th>1344</th>\n",
       "      <td>92257fea-9586-4d78-8ef0-a4404cc1367d</td>\n",
       "      <td>1.0</td>\n",
       "      <td>1.0</td>\n",
       "    </tr>\n",
       "  </tbody>\n",
       "</table>\n",
       "<p>464 rows × 3 columns</p>\n",
       "</div>"
      ],
      "text/plain": [
       "event                                linkid   click  preview\n",
       "439    2d896d31-97b6-4869-967b-1c5fb9cd4bb8  9692.0   5974.0\n",
       "2088   e849515b-929d-44c8-a505-e7622f1827e9  2198.0   1571.0\n",
       "770    522da5cc-8177-4140-97a7-a84fdb4caf1c  2109.0   1605.0\n",
       "970    681d888a-59ce-4acb-b7c5-95dab0c063d9  1500.0    658.0\n",
       "1765   c2c876ab-b093-4750-9449-6b4913da6af3  1429.0   1001.0\n",
       "...                                     ...     ...      ...\n",
       "1231   85de285e-8c72-4fc1-a1c7-ce2f34121ca1     1.0      1.0\n",
       "399    297fa1f6-7505-49b3-8210-a9ee2ba92091     1.0      2.0\n",
       "2082   e7d83d9f-7119-48d4-b570-e6af90976e34     1.0      1.0\n",
       "380    27c6ad2e-f5b0-4584-a803-33111b48d48d     1.0      1.0\n",
       "1344   92257fea-9586-4d78-8ef0-a4404cc1367d     1.0      1.0\n",
       "\n",
       "[464 rows x 3 columns]"
      ]
     },
     "execution_count": 33,
     "metadata": {},
     "output_type": "execute_result"
    }
   ],
   "source": [
    "df1.sort_values(by='click', ascending=False)"
   ]
  },
  {
   "cell_type": "code",
   "execution_count": 34,
   "id": "f2dd947e",
   "metadata": {},
   "outputs": [
    {
     "data": {
      "text/plain": [
       "PearsonRResult(statistic=0.993422470424896, pvalue=0.0)"
      ]
     },
     "execution_count": 34,
     "metadata": {},
     "output_type": "execute_result"
    }
   ],
   "source": [
    "scipy.stats.pearsonr(x=df1[\"click\"], y=df1[\"preview\"])"
   ]
  },
  {
   "cell_type": "code",
   "execution_count": null,
   "id": "6822cab7",
   "metadata": {},
   "outputs": [],
   "source": []
  }
 ],
 "metadata": {
  "kernelspec": {
   "display_name": "Python 3 (ipykernel)",
   "language": "python",
   "name": "python3"
  },
  "language_info": {
   "codemirror_mode": {
    "name": "ipython",
    "version": 3
   },
   "file_extension": ".py",
   "mimetype": "text/x-python",
   "name": "python",
   "nbconvert_exporter": "python",
   "pygments_lexer": "ipython3",
   "version": "3.9.13"
  }
 },
 "nbformat": 4,
 "nbformat_minor": 5
}
